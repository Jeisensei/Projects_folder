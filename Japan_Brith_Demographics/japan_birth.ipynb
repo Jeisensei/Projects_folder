{
 "cells": [
  {
   "cell_type": "markdown",
   "metadata": {},
   "source": [
    "# A dive into Japanese birth demographics. \n",
    "### Dataset from: https://www.kaggle.com/datasets/webdevbadger/japan-birth-statistics"
   ]
  },
  {
   "cell_type": "markdown",
   "metadata": {},
   "source": [
    "Reading the exploring the dataset"
   ]
  },
  {
   "cell_type": "code",
   "execution_count": 1,
   "metadata": {},
   "outputs": [],
   "source": [
    "import pandas as pd"
   ]
  },
  {
   "cell_type": "code",
   "execution_count": 6,
   "metadata": {},
   "outputs": [
    {
     "name": "stdout",
     "output_type": "stream",
     "text": [
      "(124, 51)\n",
      "<class 'pandas.core.frame.DataFrame'>\n",
      "RangeIndex: 124 entries, 0 to 123\n",
      "Data columns (total 51 columns):\n",
      " #   Column                         Non-Null Count  Dtype  \n",
      "---  ------                         --------------  -----  \n",
      " 0   Unnamed: 0                     124 non-null    int64  \n",
      " 1   year                           124 non-null    int64  \n",
      " 2   birth_total                    121 non-null    float64\n",
      " 3   birth_male                     121 non-null    float64\n",
      " 4   birth_female                   121 non-null    float64\n",
      " 5   birth_rate                     121 non-null    float64\n",
      " 6   birth_gender_ratio             121 non-null    float64\n",
      " 7   total_fertility_rate           76 non-null     float64\n",
      " 8   population_total               124 non-null    int64  \n",
      " 9   population_male                124 non-null    int64  \n",
      " 10  population_female              124 non-null    int64  \n",
      " 11  infant_death_total             121 non-null    float64\n",
      " 12  infant_death_male              121 non-null    float64\n",
      " 13  infant_death_female            121 non-null    float64\n",
      " 14  infant_death_unknown_gender    121 non-null    float64\n",
      " 15  infant_death_rate              121 non-null    float64\n",
      " 16  infant_death_gender_ratio      121 non-null    float64\n",
      " 17  infant_deaths_in_total_deaths  121 non-null    float64\n",
      " 18  stillbirth_total               121 non-null    float64\n",
      " 19  stillbirth_male                119 non-null    float64\n",
      " 20  stillbirth_female              119 non-null    float64\n",
      " 21  stillbirth_unknown_gender      119 non-null    float64\n",
      " 22  stillbirth_rate                121 non-null    float64\n",
      " 23  stillbirth_gender_ratio        119 non-null    float64\n",
      " 24  firstborn                      45 non-null     float64\n",
      " 25  secondborn                     45 non-null     float64\n",
      " 26  thirdborn                      45 non-null     float64\n",
      " 27  forthborn                      45 non-null     float64\n",
      " 28  fifthborn_and_above            45 non-null     float64\n",
      " 29  weeks_under_28                 38 non-null     float64\n",
      " 30  weeks_28-31                    38 non-null     float64\n",
      " 31  weeks_32-36                    38 non-null     float64\n",
      " 32  weeks_37-41                    38 non-null     float64\n",
      " 33  weeks_over_42                  38 non-null     float64\n",
      " 34  mother_age_avg                 37 non-null     float64\n",
      " 35  mother_age_firstborn           37 non-null     float64\n",
      " 36  mother_age_secondborn          37 non-null     float64\n",
      " 37  mother_age_thirdborn           37 non-null     float64\n",
      " 38  mother_age_under_19            22 non-null     float64\n",
      " 39  mother_age_20-24               22 non-null     float64\n",
      " 40  mother_age_25-29               22 non-null     float64\n",
      " 41  mother_age_30-34               22 non-null     float64\n",
      " 42  mother_age_35-39               22 non-null     float64\n",
      " 43  mother_age_40-44               22 non-null     float64\n",
      " 44  mother_age_over_45             22 non-null     float64\n",
      " 45  father_age_avg                 32 non-null     float64\n",
      " 46  father_age_firstborn           32 non-null     float64\n",
      " 47  father_age_secondborn          32 non-null     float64\n",
      " 48  father_age_thirdborn           32 non-null     float64\n",
      " 49  legitimate_child               34 non-null     float64\n",
      " 50  illegitimate_child             34 non-null     float64\n",
      "dtypes: float64(46), int64(5)\n",
      "memory usage: 49.5 KB\n",
      "None\n"
     ]
    },
    {
     "data": {
      "text/plain": [
       "Index(['Unnamed: 0', 'year', 'birth_total', 'birth_male', 'birth_female',\n",
       "       'birth_rate', 'birth_gender_ratio', 'total_fertility_rate',\n",
       "       'population_total', 'population_male', 'population_female',\n",
       "       'infant_death_total', 'infant_death_male', 'infant_death_female',\n",
       "       'infant_death_unknown_gender', 'infant_death_rate',\n",
       "       'infant_death_gender_ratio', 'infant_deaths_in_total_deaths',\n",
       "       'stillbirth_total', 'stillbirth_male', 'stillbirth_female',\n",
       "       'stillbirth_unknown_gender', 'stillbirth_rate',\n",
       "       'stillbirth_gender_ratio', 'firstborn', 'secondborn', 'thirdborn',\n",
       "       'forthborn', 'fifthborn_and_above', 'weeks_under_28', 'weeks_28-31',\n",
       "       'weeks_32-36', 'weeks_37-41', 'weeks_over_42', 'mother_age_avg',\n",
       "       'mother_age_firstborn', 'mother_age_secondborn', 'mother_age_thirdborn',\n",
       "       'mother_age_under_19', 'mother_age_20-24', 'mother_age_25-29',\n",
       "       'mother_age_30-34', 'mother_age_35-39', 'mother_age_40-44',\n",
       "       'mother_age_over_45', 'father_age_avg', 'father_age_firstborn',\n",
       "       'father_age_secondborn', 'father_age_thirdborn', 'legitimate_child',\n",
       "       'illegitimate_child'],\n",
       "      dtype='object')"
      ]
     },
     "execution_count": 6,
     "metadata": {},
     "output_type": "execute_result"
    }
   ],
   "source": [
    "birth_df = pd.read_csv(\"japan_birth.csv\")\n",
    "print(birth_df.shape)\n",
    "print(birth_df.info())\n",
    "birth_df.head()\n",
    "birth_df.columns"
   ]
  },
  {
   "cell_type": "code",
   "execution_count": 3,
   "metadata": {},
   "outputs": [
    {
     "data": {
      "text/plain": [
       "array([1899, 1900, 1901, 1902, 1903, 1904, 1905, 1906, 1907, 1908, 1909,\n",
       "       1910, 1911, 1912, 1913, 1914, 1915, 1916, 1917, 1918, 1919, 1920,\n",
       "       1921, 1922, 1923, 1924, 1925, 1926, 1927, 1928, 1929, 1930, 1931,\n",
       "       1932, 1933, 1934, 1935, 1936, 1937, 1938, 1939, 1940, 1941, 1942,\n",
       "       1943, 1944, 1945, 1946, 1947, 1948, 1949, 1950, 1951, 1952, 1953,\n",
       "       1954, 1955, 1956, 1957, 1958, 1959, 1960, 1961, 1962, 1963, 1964,\n",
       "       1965, 1966, 1967, 1968, 1969, 1970, 1971, 1972, 1973, 1974, 1975,\n",
       "       1976, 1977, 1978, 1979, 1980, 1981, 1982, 1983, 1984, 1985, 1986,\n",
       "       1987, 1988, 1989, 1990, 1991, 1992, 1993, 1994, 1995, 1996, 1997,\n",
       "       1998, 1999, 2000, 2001, 2002, 2003, 2004, 2005, 2006, 2007, 2008,\n",
       "       2009, 2010, 2011, 2012, 2013, 2014, 2015, 2016, 2017, 2018, 2019,\n",
       "       2020, 2021, 2022])"
      ]
     },
     "execution_count": 3,
     "metadata": {},
     "output_type": "execute_result"
    }
   ],
   "source": [
    "birth_df.year.unique()"
   ]
  }
 ],
 "metadata": {
  "kernelspec": {
   "display_name": "Python 3",
   "language": "python",
   "name": "python3"
  },
  "language_info": {
   "codemirror_mode": {
    "name": "ipython",
    "version": 3
   },
   "file_extension": ".py",
   "mimetype": "text/x-python",
   "name": "python",
   "nbconvert_exporter": "python",
   "pygments_lexer": "ipython3",
   "version": "3.10.12"
  }
 },
 "nbformat": 4,
 "nbformat_minor": 2
}
