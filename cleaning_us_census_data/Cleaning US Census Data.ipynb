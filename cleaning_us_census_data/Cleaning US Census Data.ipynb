{
 "cells": [
  {
   "cell_type": "markdown",
   "metadata": {},
   "source": [
    "# Cleaning US Census Data"
   ]
  },
  {
   "cell_type": "markdown",
   "metadata": {},
   "source": [
    "You just got hired as a Data Analyst at the Census Bureau, which collects census data and creates interesting visualizations and insights from it.\n",
    "\n",
    "The person who had your job before you left you all the data they had for the most recent census. It is in multiple `csv` files. They didn't use pandas, they would just look through these `csv` files manually whenever they wanted to find something. Sometimes they would copy and paste certain numbers into Excel to make charts.\n",
    "\n",
    "The thought of it makes you shiver. This is not scalable or repeatable.\n",
    "\n",
    "Your boss wants you to make some scatterplots and histograms by the end of the day. Can you get this data into `pandas` and into reasonable shape so that you can make these histograms?"
   ]
  },
  {
   "cell_type": "markdown",
   "metadata": {},
   "source": [
    "## Inspect the Data!"
   ]
  },
  {
   "cell_type": "markdown",
   "metadata": {},
   "source": [
    "1. The first visualization your boss wants you to make is a scatterplot that shows average income in a state vs proportion of women in that state.\n",
    "\n",
    "   Open some of the census `csv` files that came with the kit you downloaded. How are they named? What kind of information do they hold? Will they help us make this graph?"
   ]
  },
  {
   "cell_type": "code",
   "execution_count": null,
   "metadata": {},
   "outputs": [],
   "source": []
  },
  {
   "cell_type": "markdown",
   "metadata": {},
   "source": [
    "2. It will be easier to inspect this data once we have it in a DataFrame. You can't even call `.head()` on these `csv`s! How are you supposed to read them?\n",
    "\n",
    "   Using `glob`, loop through the census files available and load them into DataFrames. Then, concatenate all of those DataFrames together into one DataFrame, called something like `us_census`."
   ]
  },
  {
   "cell_type": "code",
   "execution_count": 1,
   "metadata": {},
   "outputs": [],
   "source": [
    "import pandas as pd\n",
    "import numpy as np\n",
    "import matplotlib.pyplot as plt\n",
    "import glob"
   ]
  },
  {
   "cell_type": "code",
   "execution_count": 2,
   "metadata": {},
   "outputs": [
    {
     "data": {
      "text/html": [
       "<div>\n",
       "<style scoped>\n",
       "    .dataframe tbody tr th:only-of-type {\n",
       "        vertical-align: middle;\n",
       "    }\n",
       "\n",
       "    .dataframe tbody tr th {\n",
       "        vertical-align: top;\n",
       "    }\n",
       "\n",
       "    .dataframe thead th {\n",
       "        text-align: right;\n",
       "    }\n",
       "</style>\n",
       "<table border=\"1\" class=\"dataframe\">\n",
       "  <thead>\n",
       "    <tr style=\"text-align: right;\">\n",
       "      <th></th>\n",
       "      <th>Unnamed: 0</th>\n",
       "      <th>State</th>\n",
       "      <th>TotalPop</th>\n",
       "      <th>Hispanic</th>\n",
       "      <th>White</th>\n",
       "      <th>Black</th>\n",
       "      <th>Native</th>\n",
       "      <th>Asian</th>\n",
       "      <th>Pacific</th>\n",
       "      <th>Income</th>\n",
       "      <th>GenderPop</th>\n",
       "    </tr>\n",
       "  </thead>\n",
       "  <tbody>\n",
       "    <tr>\n",
       "      <th>0</th>\n",
       "      <td>0</td>\n",
       "      <td>New Jersey</td>\n",
       "      <td>8904413</td>\n",
       "      <td>18.75%</td>\n",
       "      <td>56.49%</td>\n",
       "      <td>14.39%</td>\n",
       "      <td>0.12%</td>\n",
       "      <td>8.16%</td>\n",
       "      <td>0.03%</td>\n",
       "      <td>$76,581.08</td>\n",
       "      <td>4343027M_4561386F</td>\n",
       "    </tr>\n",
       "    <tr>\n",
       "      <th>1</th>\n",
       "      <td>1</td>\n",
       "      <td>New Mexico</td>\n",
       "      <td>2084117</td>\n",
       "      <td>45.28%</td>\n",
       "      <td>40.70%</td>\n",
       "      <td>1.76%</td>\n",
       "      <td>9.25%</td>\n",
       "      <td>1.23%</td>\n",
       "      <td>0.04%</td>\n",
       "      <td>$47,329.97</td>\n",
       "      <td>1032414M_1051703F</td>\n",
       "    </tr>\n",
       "    <tr>\n",
       "      <th>2</th>\n",
       "      <td>2</td>\n",
       "      <td>New York</td>\n",
       "      <td>19673174</td>\n",
       "      <td>17.24%</td>\n",
       "      <td>56.47%</td>\n",
       "      <td>15.67%</td>\n",
       "      <td>0.32%</td>\n",
       "      <td>7.90%</td>\n",
       "      <td>0.02%</td>\n",
       "      <td>$64,290.75</td>\n",
       "      <td>9541801M_10131373F</td>\n",
       "    </tr>\n",
       "    <tr>\n",
       "      <th>3</th>\n",
       "      <td>3</td>\n",
       "      <td>North Carolina</td>\n",
       "      <td>9845333</td>\n",
       "      <td>8.46%</td>\n",
       "      <td>64.60%</td>\n",
       "      <td>21.40%</td>\n",
       "      <td>1.09%</td>\n",
       "      <td>2.32%</td>\n",
       "      <td>0.05%</td>\n",
       "      <td>$49,937.46</td>\n",
       "      <td>4795408M_5049925F</td>\n",
       "    </tr>\n",
       "    <tr>\n",
       "      <th>4</th>\n",
       "      <td>4</td>\n",
       "      <td>North Dakota</td>\n",
       "      <td>721640</td>\n",
       "      <td>2.83%</td>\n",
       "      <td>87.45%</td>\n",
       "      <td>1.28%</td>\n",
       "      <td>5.65%</td>\n",
       "      <td>0.96%</td>\n",
       "      <td>NaN</td>\n",
       "      <td>$58,188.11</td>\n",
       "      <td>367963M_353677F</td>\n",
       "    </tr>\n",
       "  </tbody>\n",
       "</table>\n",
       "</div>"
      ],
      "text/plain": [
       "   Unnamed: 0           State  TotalPop Hispanic   White   Black Native  \\\n",
       "0           0      New Jersey   8904413   18.75%  56.49%  14.39%  0.12%   \n",
       "1           1      New Mexico   2084117   45.28%  40.70%   1.76%  9.25%   \n",
       "2           2        New York  19673174   17.24%  56.47%  15.67%  0.32%   \n",
       "3           3  North Carolina   9845333    8.46%  64.60%  21.40%  1.09%   \n",
       "4           4    North Dakota    721640    2.83%  87.45%   1.28%  5.65%   \n",
       "\n",
       "   Asian Pacific       Income           GenderPop  \n",
       "0  8.16%   0.03%  $76,581.08    4343027M_4561386F  \n",
       "1  1.23%   0.04%  $47,329.97    1032414M_1051703F  \n",
       "2  7.90%   0.02%  $64,290.75   9541801M_10131373F  \n",
       "3  2.32%   0.05%  $49,937.46    4795408M_5049925F  \n",
       "4  0.96%     NaN  $58,188.11      367963M_353677F  "
      ]
     },
     "execution_count": 2,
     "metadata": {},
     "output_type": "execute_result"
    }
   ],
   "source": [
    "files = glob.glob(\"states*.csv\")\n",
    "df_list = []\n",
    "\n",
    "for filename in files:\n",
    "  data = pd.read_csv(filename)\n",
    "  df_list.append(data)\n",
    "\n",
    "us_census = pd.concat(df_list)\n",
    "us_census.head()"
   ]
  },
  {
   "cell_type": "markdown",
   "metadata": {},
   "source": [
    "3. Look at the `.columns` and the `.dtypes` of the `us_census` DataFrame. Are those datatypes going to hinder you as you try to make histograms?"
   ]
  },
  {
   "cell_type": "code",
   "execution_count": 3,
   "metadata": {},
   "outputs": [
    {
     "name": "stdout",
     "output_type": "stream",
     "text": [
      "Index(['Unnamed: 0', 'State', 'TotalPop', 'Hispanic', 'White', 'Black',\n",
      "       'Native', 'Asian', 'Pacific', 'Income', 'GenderPop'],\n",
      "      dtype='object')\n",
      "Unnamed: 0     int64\n",
      "State         object\n",
      "TotalPop       int64\n",
      "Hispanic      object\n",
      "White         object\n",
      "Black         object\n",
      "Native        object\n",
      "Asian         object\n",
      "Pacific       object\n",
      "Income        object\n",
      "GenderPop     object\n",
      "dtype: object\n"
     ]
    }
   ],
   "source": [
    "print(us_census.columns)\n",
    "print(us_census.dtypes)"
   ]
  },
  {
   "cell_type": "markdown",
   "metadata": {},
   "source": [
    "4. Look at the `head()` of the DataFrame so that you can understand why some of these `dtypes` are objects instead of integers or floats.\n",
    "\n",
    "   Start to make a plan for how to convert these columns into the right types for manipulation."
   ]
  },
  {
   "cell_type": "code",
   "execution_count": 4,
   "metadata": {},
   "outputs": [
    {
     "data": {
      "text/html": [
       "<div>\n",
       "<style scoped>\n",
       "    .dataframe tbody tr th:only-of-type {\n",
       "        vertical-align: middle;\n",
       "    }\n",
       "\n",
       "    .dataframe tbody tr th {\n",
       "        vertical-align: top;\n",
       "    }\n",
       "\n",
       "    .dataframe thead th {\n",
       "        text-align: right;\n",
       "    }\n",
       "</style>\n",
       "<table border=\"1\" class=\"dataframe\">\n",
       "  <thead>\n",
       "    <tr style=\"text-align: right;\">\n",
       "      <th></th>\n",
       "      <th>Unnamed: 0</th>\n",
       "      <th>State</th>\n",
       "      <th>TotalPop</th>\n",
       "      <th>Hispanic</th>\n",
       "      <th>White</th>\n",
       "      <th>Black</th>\n",
       "      <th>Native</th>\n",
       "      <th>Asian</th>\n",
       "      <th>Pacific</th>\n",
       "      <th>Income</th>\n",
       "      <th>GenderPop</th>\n",
       "    </tr>\n",
       "  </thead>\n",
       "  <tbody>\n",
       "    <tr>\n",
       "      <th>0</th>\n",
       "      <td>0</td>\n",
       "      <td>New Jersey</td>\n",
       "      <td>8904413</td>\n",
       "      <td>18.75%</td>\n",
       "      <td>56.49%</td>\n",
       "      <td>14.39%</td>\n",
       "      <td>0.12%</td>\n",
       "      <td>8.16%</td>\n",
       "      <td>0.03%</td>\n",
       "      <td>$76,581.08</td>\n",
       "      <td>4343027M_4561386F</td>\n",
       "    </tr>\n",
       "    <tr>\n",
       "      <th>1</th>\n",
       "      <td>1</td>\n",
       "      <td>New Mexico</td>\n",
       "      <td>2084117</td>\n",
       "      <td>45.28%</td>\n",
       "      <td>40.70%</td>\n",
       "      <td>1.76%</td>\n",
       "      <td>9.25%</td>\n",
       "      <td>1.23%</td>\n",
       "      <td>0.04%</td>\n",
       "      <td>$47,329.97</td>\n",
       "      <td>1032414M_1051703F</td>\n",
       "    </tr>\n",
       "    <tr>\n",
       "      <th>2</th>\n",
       "      <td>2</td>\n",
       "      <td>New York</td>\n",
       "      <td>19673174</td>\n",
       "      <td>17.24%</td>\n",
       "      <td>56.47%</td>\n",
       "      <td>15.67%</td>\n",
       "      <td>0.32%</td>\n",
       "      <td>7.90%</td>\n",
       "      <td>0.02%</td>\n",
       "      <td>$64,290.75</td>\n",
       "      <td>9541801M_10131373F</td>\n",
       "    </tr>\n",
       "    <tr>\n",
       "      <th>3</th>\n",
       "      <td>3</td>\n",
       "      <td>North Carolina</td>\n",
       "      <td>9845333</td>\n",
       "      <td>8.46%</td>\n",
       "      <td>64.60%</td>\n",
       "      <td>21.40%</td>\n",
       "      <td>1.09%</td>\n",
       "      <td>2.32%</td>\n",
       "      <td>0.05%</td>\n",
       "      <td>$49,937.46</td>\n",
       "      <td>4795408M_5049925F</td>\n",
       "    </tr>\n",
       "    <tr>\n",
       "      <th>4</th>\n",
       "      <td>4</td>\n",
       "      <td>North Dakota</td>\n",
       "      <td>721640</td>\n",
       "      <td>2.83%</td>\n",
       "      <td>87.45%</td>\n",
       "      <td>1.28%</td>\n",
       "      <td>5.65%</td>\n",
       "      <td>0.96%</td>\n",
       "      <td>NaN</td>\n",
       "      <td>$58,188.11</td>\n",
       "      <td>367963M_353677F</td>\n",
       "    </tr>\n",
       "  </tbody>\n",
       "</table>\n",
       "</div>"
      ],
      "text/plain": [
       "   Unnamed: 0           State  TotalPop Hispanic   White   Black Native  \\\n",
       "0           0      New Jersey   8904413   18.75%  56.49%  14.39%  0.12%   \n",
       "1           1      New Mexico   2084117   45.28%  40.70%   1.76%  9.25%   \n",
       "2           2        New York  19673174   17.24%  56.47%  15.67%  0.32%   \n",
       "3           3  North Carolina   9845333    8.46%  64.60%  21.40%  1.09%   \n",
       "4           4    North Dakota    721640    2.83%  87.45%   1.28%  5.65%   \n",
       "\n",
       "   Asian Pacific       Income           GenderPop  \n",
       "0  8.16%   0.03%  $76,581.08    4343027M_4561386F  \n",
       "1  1.23%   0.04%  $47,329.97    1032414M_1051703F  \n",
       "2  7.90%   0.02%  $64,290.75   9541801M_10131373F  \n",
       "3  2.32%   0.05%  $49,937.46    4795408M_5049925F  \n",
       "4  0.96%     NaN  $58,188.11      367963M_353677F  "
      ]
     },
     "execution_count": 4,
     "metadata": {},
     "output_type": "execute_result"
    }
   ],
   "source": [
    "us_census.head()"
   ]
  },
  {
   "cell_type": "markdown",
   "metadata": {},
   "source": [
    "## Regex to the Rescue"
   ]
  },
  {
   "cell_type": "markdown",
   "metadata": {},
   "source": [
    "5. Use regex to turn the `Income` column into a format that is ready for conversion into a numerical type."
   ]
  },
  {
   "cell_type": "code",
   "execution_count": 11,
   "metadata": {},
   "outputs": [
    {
     "data": {
      "text/html": [
       "<div>\n",
       "<style scoped>\n",
       "    .dataframe tbody tr th:only-of-type {\n",
       "        vertical-align: middle;\n",
       "    }\n",
       "\n",
       "    .dataframe tbody tr th {\n",
       "        vertical-align: top;\n",
       "    }\n",
       "\n",
       "    .dataframe thead th {\n",
       "        text-align: right;\n",
       "    }\n",
       "</style>\n",
       "<table border=\"1\" class=\"dataframe\">\n",
       "  <thead>\n",
       "    <tr style=\"text-align: right;\">\n",
       "      <th></th>\n",
       "      <th>Unnamed: 0</th>\n",
       "      <th>State</th>\n",
       "      <th>TotalPop</th>\n",
       "      <th>Hispanic</th>\n",
       "      <th>White</th>\n",
       "      <th>Black</th>\n",
       "      <th>Native</th>\n",
       "      <th>Asian</th>\n",
       "      <th>Pacific</th>\n",
       "      <th>Income</th>\n",
       "      <th>GenderPop</th>\n",
       "      <th>Men</th>\n",
       "      <th>Women</th>\n",
       "    </tr>\n",
       "  </thead>\n",
       "  <tbody>\n",
       "    <tr>\n",
       "      <th>0</th>\n",
       "      <td>0</td>\n",
       "      <td>New Jersey</td>\n",
       "      <td>8904413</td>\n",
       "      <td>18.75%</td>\n",
       "      <td>56.49%</td>\n",
       "      <td>14.39%</td>\n",
       "      <td>0.12%</td>\n",
       "      <td>8.16%</td>\n",
       "      <td>0.03%</td>\n",
       "      <td>76581.08</td>\n",
       "      <td>4343027M_4561386F</td>\n",
       "      <td>4343027</td>\n",
       "      <td>4561386.0</td>\n",
       "    </tr>\n",
       "    <tr>\n",
       "      <th>1</th>\n",
       "      <td>1</td>\n",
       "      <td>New Mexico</td>\n",
       "      <td>2084117</td>\n",
       "      <td>45.28%</td>\n",
       "      <td>40.70%</td>\n",
       "      <td>1.76%</td>\n",
       "      <td>9.25%</td>\n",
       "      <td>1.23%</td>\n",
       "      <td>0.04%</td>\n",
       "      <td>47329.97</td>\n",
       "      <td>1032414M_1051703F</td>\n",
       "      <td>1032414</td>\n",
       "      <td>1051703.0</td>\n",
       "    </tr>\n",
       "    <tr>\n",
       "      <th>2</th>\n",
       "      <td>2</td>\n",
       "      <td>New York</td>\n",
       "      <td>19673174</td>\n",
       "      <td>17.24%</td>\n",
       "      <td>56.47%</td>\n",
       "      <td>15.67%</td>\n",
       "      <td>0.32%</td>\n",
       "      <td>7.90%</td>\n",
       "      <td>0.02%</td>\n",
       "      <td>64290.75</td>\n",
       "      <td>9541801M_10131373F</td>\n",
       "      <td>9541801</td>\n",
       "      <td>10131373.0</td>\n",
       "    </tr>\n",
       "    <tr>\n",
       "      <th>3</th>\n",
       "      <td>3</td>\n",
       "      <td>North Carolina</td>\n",
       "      <td>9845333</td>\n",
       "      <td>8.46%</td>\n",
       "      <td>64.60%</td>\n",
       "      <td>21.40%</td>\n",
       "      <td>1.09%</td>\n",
       "      <td>2.32%</td>\n",
       "      <td>0.05%</td>\n",
       "      <td>49937.46</td>\n",
       "      <td>4795408M_5049925F</td>\n",
       "      <td>4795408</td>\n",
       "      <td>5049925.0</td>\n",
       "    </tr>\n",
       "    <tr>\n",
       "      <th>4</th>\n",
       "      <td>4</td>\n",
       "      <td>North Dakota</td>\n",
       "      <td>721640</td>\n",
       "      <td>2.83%</td>\n",
       "      <td>87.45%</td>\n",
       "      <td>1.28%</td>\n",
       "      <td>5.65%</td>\n",
       "      <td>0.96%</td>\n",
       "      <td>NaN</td>\n",
       "      <td>58188.11</td>\n",
       "      <td>367963M_353677F</td>\n",
       "      <td>367963</td>\n",
       "      <td>353677.0</td>\n",
       "    </tr>\n",
       "  </tbody>\n",
       "</table>\n",
       "</div>"
      ],
      "text/plain": [
       "   Unnamed: 0           State  TotalPop Hispanic   White   Black Native  \\\n",
       "0           0      New Jersey   8904413   18.75%  56.49%  14.39%  0.12%   \n",
       "1           1      New Mexico   2084117   45.28%  40.70%   1.76%  9.25%   \n",
       "2           2        New York  19673174   17.24%  56.47%  15.67%  0.32%   \n",
       "3           3  North Carolina   9845333    8.46%  64.60%  21.40%  1.09%   \n",
       "4           4    North Dakota    721640    2.83%  87.45%   1.28%  5.65%   \n",
       "\n",
       "   Asian Pacific    Income           GenderPop      Men       Women  \n",
       "0  8.16%   0.03%  76581.08   4343027M_4561386F  4343027   4561386.0  \n",
       "1  1.23%   0.04%  47329.97   1032414M_1051703F  1032414   1051703.0  \n",
       "2  7.90%   0.02%  64290.75  9541801M_10131373F  9541801  10131373.0  \n",
       "3  2.32%   0.05%  49937.46   4795408M_5049925F  4795408   5049925.0  \n",
       "4  0.96%     NaN  58188.11     367963M_353677F   367963    353677.0  "
      ]
     },
     "execution_count": 11,
     "metadata": {},
     "output_type": "execute_result"
    }
   ],
   "source": [
    "us_census[\"Income\"] = us_census[\"Income\"].str.replace(\"[\\$,]\", \"\", regex=True)\n",
    "us_census[\"Income\"] = pd.to_numeric(us_census[\"Income\"])\n",
    "us_census.head()"
   ]
  },
  {
   "cell_type": "markdown",
   "metadata": {},
   "source": [
    "6. Look at the `GenderPop` column. We are going to want to separate this into two columns, the `Men` column, and the `Women` column.\n",
    "\n",
    "   Split the column into those two new columns using `str.split` and separating out those results."
   ]
  },
  {
   "cell_type": "code",
   "execution_count": 12,
   "metadata": {},
   "outputs": [
    {
     "data": {
      "text/html": [
       "<div>\n",
       "<style scoped>\n",
       "    .dataframe tbody tr th:only-of-type {\n",
       "        vertical-align: middle;\n",
       "    }\n",
       "\n",
       "    .dataframe tbody tr th {\n",
       "        vertical-align: top;\n",
       "    }\n",
       "\n",
       "    .dataframe thead th {\n",
       "        text-align: right;\n",
       "    }\n",
       "</style>\n",
       "<table border=\"1\" class=\"dataframe\">\n",
       "  <thead>\n",
       "    <tr style=\"text-align: right;\">\n",
       "      <th></th>\n",
       "      <th>Unnamed: 0</th>\n",
       "      <th>State</th>\n",
       "      <th>TotalPop</th>\n",
       "      <th>Hispanic</th>\n",
       "      <th>White</th>\n",
       "      <th>Black</th>\n",
       "      <th>Native</th>\n",
       "      <th>Asian</th>\n",
       "      <th>Pacific</th>\n",
       "      <th>Income</th>\n",
       "      <th>GenderPop</th>\n",
       "      <th>Men</th>\n",
       "      <th>Women</th>\n",
       "    </tr>\n",
       "  </thead>\n",
       "  <tbody>\n",
       "    <tr>\n",
       "      <th>0</th>\n",
       "      <td>0</td>\n",
       "      <td>New Jersey</td>\n",
       "      <td>8904413</td>\n",
       "      <td>18.75%</td>\n",
       "      <td>56.49%</td>\n",
       "      <td>14.39%</td>\n",
       "      <td>0.12%</td>\n",
       "      <td>8.16%</td>\n",
       "      <td>0.03%</td>\n",
       "      <td>76581.08</td>\n",
       "      <td>4343027M_4561386F</td>\n",
       "      <td>4343027M</td>\n",
       "      <td>4561386F</td>\n",
       "    </tr>\n",
       "    <tr>\n",
       "      <th>1</th>\n",
       "      <td>1</td>\n",
       "      <td>New Mexico</td>\n",
       "      <td>2084117</td>\n",
       "      <td>45.28%</td>\n",
       "      <td>40.70%</td>\n",
       "      <td>1.76%</td>\n",
       "      <td>9.25%</td>\n",
       "      <td>1.23%</td>\n",
       "      <td>0.04%</td>\n",
       "      <td>47329.97</td>\n",
       "      <td>1032414M_1051703F</td>\n",
       "      <td>1032414M</td>\n",
       "      <td>1051703F</td>\n",
       "    </tr>\n",
       "    <tr>\n",
       "      <th>2</th>\n",
       "      <td>2</td>\n",
       "      <td>New York</td>\n",
       "      <td>19673174</td>\n",
       "      <td>17.24%</td>\n",
       "      <td>56.47%</td>\n",
       "      <td>15.67%</td>\n",
       "      <td>0.32%</td>\n",
       "      <td>7.90%</td>\n",
       "      <td>0.02%</td>\n",
       "      <td>64290.75</td>\n",
       "      <td>9541801M_10131373F</td>\n",
       "      <td>9541801M</td>\n",
       "      <td>10131373F</td>\n",
       "    </tr>\n",
       "    <tr>\n",
       "      <th>3</th>\n",
       "      <td>3</td>\n",
       "      <td>North Carolina</td>\n",
       "      <td>9845333</td>\n",
       "      <td>8.46%</td>\n",
       "      <td>64.60%</td>\n",
       "      <td>21.40%</td>\n",
       "      <td>1.09%</td>\n",
       "      <td>2.32%</td>\n",
       "      <td>0.05%</td>\n",
       "      <td>49937.46</td>\n",
       "      <td>4795408M_5049925F</td>\n",
       "      <td>4795408M</td>\n",
       "      <td>5049925F</td>\n",
       "    </tr>\n",
       "    <tr>\n",
       "      <th>4</th>\n",
       "      <td>4</td>\n",
       "      <td>North Dakota</td>\n",
       "      <td>721640</td>\n",
       "      <td>2.83%</td>\n",
       "      <td>87.45%</td>\n",
       "      <td>1.28%</td>\n",
       "      <td>5.65%</td>\n",
       "      <td>0.96%</td>\n",
       "      <td>NaN</td>\n",
       "      <td>58188.11</td>\n",
       "      <td>367963M_353677F</td>\n",
       "      <td>367963M</td>\n",
       "      <td>353677F</td>\n",
       "    </tr>\n",
       "  </tbody>\n",
       "</table>\n",
       "</div>"
      ],
      "text/plain": [
       "   Unnamed: 0           State  TotalPop Hispanic   White   Black Native  \\\n",
       "0           0      New Jersey   8904413   18.75%  56.49%  14.39%  0.12%   \n",
       "1           1      New Mexico   2084117   45.28%  40.70%   1.76%  9.25%   \n",
       "2           2        New York  19673174   17.24%  56.47%  15.67%  0.32%   \n",
       "3           3  North Carolina   9845333    8.46%  64.60%  21.40%  1.09%   \n",
       "4           4    North Dakota    721640    2.83%  87.45%   1.28%  5.65%   \n",
       "\n",
       "   Asian Pacific    Income           GenderPop       Men      Women  \n",
       "0  8.16%   0.03%  76581.08   4343027M_4561386F  4343027M   4561386F  \n",
       "1  1.23%   0.04%  47329.97   1032414M_1051703F  1032414M   1051703F  \n",
       "2  7.90%   0.02%  64290.75  9541801M_10131373F  9541801M  10131373F  \n",
       "3  2.32%   0.05%  49937.46   4795408M_5049925F  4795408M   5049925F  \n",
       "4  0.96%     NaN  58188.11     367963M_353677F   367963M    353677F  "
      ]
     },
     "execution_count": 12,
     "metadata": {},
     "output_type": "execute_result"
    }
   ],
   "source": [
    "gender_split = us_census[\"GenderPop\"].str.split(\"_\", expand=True)\n",
    "us_census[\"Men\"] = gender_split[0]\n",
    "us_census[\"Women\"] = gender_split[1]\n",
    "us_census.head()"
   ]
  },
  {
   "cell_type": "markdown",
   "metadata": {},
   "source": [
    "7. Convert both of the columns into numerical datatypes.\n",
    "\n",
    "   There is still an `M` or an `F` character in each entry! We should remove those before we convert."
   ]
  },
  {
   "cell_type": "code",
   "execution_count": 13,
   "metadata": {},
   "outputs": [
    {
     "data": {
      "text/plain": [
       "Unnamed: 0      int64\n",
       "State          object\n",
       "TotalPop        int64\n",
       "Hispanic       object\n",
       "White          object\n",
       "Black          object\n",
       "Native         object\n",
       "Asian          object\n",
       "Pacific        object\n",
       "Income        float64\n",
       "GenderPop      object\n",
       "Men             int64\n",
       "Women         float64\n",
       "dtype: object"
      ]
     },
     "execution_count": 13,
     "metadata": {},
     "output_type": "execute_result"
    }
   ],
   "source": [
    "us_census[\"Men\"] = us_census[\"Men\"].str.replace(\"M\", \"\")\n",
    "us_census[\"Women\"] = us_census[\"Women\"].str.replace(\"F\", \"\")\n",
    "us_census[\"Men\"] = pd.to_numeric(us_census[\"Men\"])\n",
    "us_census[\"Women\"] = pd.to_numeric(us_census[\"Women\"])\n",
    "us_census.dtypes"
   ]
  },
  {
   "cell_type": "markdown",
   "metadata": {},
   "source": [
    "8. Now you should have the columns you need to make the graph and make sure your boss does not slam a ruler angrily on your desk because you've wasted your whole day cleaning your data with no results to show!\n",
    "\n",
    "   Use matplotlib to make a scatterplot!\n",
    "   \n",
    "   ```py\n",
    "   plt.scatter(the_women_column, the_income_column)\n",
    "   ```\n",
    "   \n",
    "   Remember to call `plt.show()` to see the graph!"
   ]
  },
  {
   "cell_type": "code",
   "execution_count": 14,
   "metadata": {},
   "outputs": [
    {
     "data": {
      "image/png": "[encoded data removed]",
      "text/plain": [
       "<Figure size 640x480 with 1 Axes>"
      ]
     },
     "metadata": {},
     "output_type": "display_data"
    }
   ],
   "source": [
    "plt.scatter(x=us_census[\"Women\"], y=us_census[\"Income\"])\n",
    "plt.show()"
   ]
  },
  {
   "cell_type": "markdown",
   "metadata": {},
   "source": [
    "9. You want to double check your work. You know from experience that these monstrous csv files probably have `nan` values in them! Print out your column with the number of women per state to see.\n",
    "\n",
    "   We can fill in those `nan`s by using pandas' `.fillna()` function.\n",
    "   \n",
    "   You have the `TotalPop` per state, and you have the `Men` per state. As an estimate for the `nan` values in the `Women` column, you could use the `TotalPop` of that state minus the `Men` for that state.\n",
    "   \n",
    "   Print out the `Women` column after filling the `nan` values to see if it worked!"
   ]
  },
  {
   "cell_type": "code",
   "execution_count": 17,
   "metadata": {},
   "outputs": [
    {
     "data": {
      "image/png": "[encoded data removed]",
      "text/plain": [
       "<Figure size 640x480 with 1 Axes>"
      ]
     },
     "metadata": {},
     "output_type": "display_data"
    }
   ],
   "source": [
    "# us_census.Women.isna().sum()\n",
    "us_census = us_census.fillna(value={\"Women\": us_census[\"TotalPop\"] - us_census[\"Men\"]})\n",
    "us_census.Women.isna().sum()\n",
    "\n",
    "plt.scatter(x=us_census[\"Women\"], y=us_census[\"Income\"])\n",
    "plt.show()"
   ]
  },
  {
   "cell_type": "markdown",
   "metadata": {},
   "source": [
    "10. We forgot to check for duplicates! Use `.duplicated()` on your `census` DataFrame to see if we have duplicate rows in there."
   ]
  },
  {
   "cell_type": "code",
   "execution_count": 19,
   "metadata": {},
   "outputs": [
    {
     "data": {
      "text/plain": [
       "False    60\n",
       "Name: count, dtype: int64"
      ]
     },
     "execution_count": 19,
     "metadata": {},
     "output_type": "execute_result"
    }
   ],
   "source": [
    "us_census.duplicated().value_counts()"
   ]
  },
  {
   "cell_type": "markdown",
   "metadata": {},
   "source": [
    "11. Drop those duplicates using the `.drop_duplicates()` function."
   ]
  },
  {
   "cell_type": "code",
   "execution_count": 20,
   "metadata": {},
   "outputs": [],
   "source": [
    "us_census.drop_duplicates(inplace=True)"
   ]
  },
  {
   "cell_type": "markdown",
   "metadata": {},
   "source": [
    "12. Make the scatterplot again. Now, it should be perfect! Your job is secure, for now."
   ]
  },
  {
   "cell_type": "code",
   "execution_count": 21,
   "metadata": {},
   "outputs": [
    {
     "data": {
      "image/png": "[encoded data removed]",
      "text/plain": [
       "<Figure size 640x480 with 1 Axes>"
      ]
     },
     "metadata": {},
     "output_type": "display_data"
    }
   ],
   "source": [
    "plt.scatter(x=us_census[\"Women\"], y=us_census[\"Income\"])\n",
    "plt.show()"
   ]
  },
  {
   "cell_type": "markdown",
   "metadata": {},
   "source": [
    "## Histogram of Races"
   ]
  },
  {
   "cell_type": "markdown",
   "metadata": {},
   "source": [
    "13. Now your boss wants you to make a bunch of histograms out of the race data that you have. Look at the `.columns` again to see what the race categories are."
   ]
  },
  {
   "cell_type": "code",
   "execution_count": 27,
   "metadata": {},
   "outputs": [],
   "source": [
    "def race_to_float(df, race_list):\n",
    "  for race in race_list:\n",
    "    df[race] = df[race].str.replace(\"%\", \"\")\n",
    "    df[race] = pd.to_numeric(df[race])"
   ]
  },
  {
   "cell_type": "code",
   "execution_count": 30,
   "metadata": {},
   "outputs": [
    {
     "name": "stdout",
     "output_type": "stream",
     "text": [
      "Unnamed: 0      int64\n",
      "State          object\n",
      "TotalPop        int64\n",
      "Hispanic      float64\n",
      "White         float64\n",
      "Black         float64\n",
      "Native        float64\n",
      "Asian         float64\n",
      "Pacific       float64\n",
      "Income        float64\n",
      "GenderPop      object\n",
      "Men             int64\n",
      "Women         float64\n",
      "dtype: object\n"
     ]
    },
    {
     "data": {
      "text/plain": [
       "Unnamed: 0    0\n",
       "State         0\n",
       "TotalPop      0\n",
       "Hispanic      0\n",
       "White         0\n",
       "Black         0\n",
       "Native        0\n",
       "Asian         0\n",
       "Pacific       5\n",
       "Income        0\n",
       "GenderPop     0\n",
       "Men           0\n",
       "Women         0\n",
       "dtype: int64"
      ]
     },
     "execution_count": 30,
     "metadata": {},
     "output_type": "execute_result"
    }
   ],
   "source": [
    "\n",
    "# us_census.columns\n",
    "# race_categories = ['Hispanic', 'White', 'Black', 'Native', 'Asian', 'Pacific']\n",
    "# race_to_float(us_census, race_categories)\n",
    "\n",
    "print(us_census.dtypes)\n",
    "us_census.isna().sum()\n",
    "\n"
   ]
  },
  {
   "cell_type": "code",
   "execution_count": 32,
   "metadata": {},
   "outputs": [
    {
     "data": {
      "text/plain": [
       "Unnamed: 0    0\n",
       "State         0\n",
       "TotalPop      0\n",
       "Hispanic      0\n",
       "White         0\n",
       "Black         0\n",
       "Native        0\n",
       "Asian         0\n",
       "Pacific       0\n",
       "Income        0\n",
       "GenderPop     0\n",
       "Men           0\n",
       "Women         0\n",
       "dtype: int64"
      ]
     },
     "execution_count": 32,
     "metadata": {},
     "output_type": "execute_result"
    }
   ],
   "source": [
    "us_census[\"Pacific\"] = us_census[\"Pacific\"].fillna(100-(us_census[\"Hispanic\"] + us_census[\"White\"] + us_census[\"Black\"] + us_census[\"Native\"] + us_census[\"Asian\"]))\n",
    "us_census.isna().sum()"
   ]
  },
  {
   "cell_type": "markdown",
   "metadata": {},
   "source": [
    "14. Try to make a histogram for each one!\n",
    "\n",
    "    You will have to get the columns into the numerical format, and those percentage signs will have to go.\n",
    "    \n",
    "    Don't forget to fill the `nan` values with something that makes sense! You probably dropped the duplicate rows when making your last graph, but it couldn't hurt to check for duplicates again."
   ]
  },
  {
   "cell_type": "code",
   "execution_count": 34,
   "metadata": {},
   "outputs": [
    {
     "data": {
      "image/png": "[encoded data removed]",
      "text/plain": [
       "<Figure size 640x480 with 1 Axes>"
      ]
     },
     "metadata": {},
     "output_type": "display_data"
    },
    {
     "data": {
      "image/png": "[encoded data removed]",
      "text/plain": [
       "<Figure size 640x480 with 1 Axes>"
      ]
     },
     "metadata": {},
     "output_type": "display_data"
    },
    {
     "data": {
      "image/png": "[encoded data removed]",
      "text/plain": [
       "<Figure size 640x480 with 1 Axes>"
      ]
     },
     "metadata": {},
     "output_type": "display_data"
    },
    {
     "data": {
      "image/png": "[encoded data removed]",
      "text/plain": [
       "<Figure size 640x480 with 1 Axes>"
      ]
     },
     "metadata": {},
     "output_type": "display_data"
    },
    {
     "data": {
      "image/png": "[encoded data removed]",
      "text/plain": [
       "<Figure size 640x480 with 1 Axes>"
      ]
     },
     "metadata": {},
     "output_type": "display_data"
    },
    {
     "data": {
      "image/png": "[encoded data removed]",
      "text/plain": [
       "<Figure size 640x480 with 1 Axes>"
      ]
     },
     "metadata": {},
     "output_type": "display_data"
    },
    {
     "data": {
      "text/plain": [
       "<Figure size 640x480 with 0 Axes>"
      ]
     },
     "metadata": {},
     "output_type": "display_data"
    }
   ],
   "source": [
    "def hist_maker(df, race_list):\n",
    "  for race in race_list:\n",
    "    plt.hist(df[race])\n",
    "    plt.title(race)\n",
    "    plt.show()\n",
    "    plt.clf()\n",
    "\n",
    "hist_maker(us_census, race_categories)"
   ]
  },
  {
   "cell_type": "markdown",
   "metadata": {},
   "source": [
    "## Get Creative"
   ]
  },
  {
   "cell_type": "markdown",
   "metadata": {},
   "source": [
    "15. Phew. You've definitely impressed your boss on your first day of work.\n",
    "\n",
    "    But is there a way you really convey the power of pandas and Python over the drudgery of `csv` and Excel?\n",
    "    \n",
    "    Try to make some more interesting graphs to show your boss, and the world! You may need to clean the data even more to do it, or the cleaning you have already done may give you the ease of manipulation you've been searching for."
   ]
  },
  {
   "cell_type": "code",
   "execution_count": null,
   "metadata": {},
   "outputs": [],
   "source": []
  }
 ],
 "metadata": {
  "kernelspec": {
   "display_name": "Python 3 (ipykernel)",
   "language": "python",
   "name": "python3"
  },
  "language_info": {
   "codemirror_mode": {
    "name": "ipython",
    "version": 3
   },
   "file_extension": ".py",
   "mimetype": "text/x-python",
   "name": "python",
   "nbconvert_exporter": "python",
   "pygments_lexer": "ipython3",
   "version": "3.10.12"
  }
 },
 "nbformat": 4,
 "nbformat_minor": 2
}
