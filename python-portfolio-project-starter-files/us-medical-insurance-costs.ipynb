{
 "cells": [
  {
   "cell_type": "markdown",
   "metadata": {},
   "source": [
    "# U.S. Medical Insurance Costs"
   ]
  },
  {
   "cell_type": "code",
   "execution_count": 6,
   "metadata": {},
   "outputs": [],
   "source": [
    "# imports\n",
    "import pandas as pd\n",
    "import matplotlib.pyplot as plt\n",
    "# import numpy"
   ]
  },
  {
   "cell_type": "code",
   "execution_count": 7,
   "metadata": {},
   "outputs": [],
   "source": [
    "# functions\n",
    "def select_region(df, region_name):\n",
    "  answer = df.loc[df[\"region\"] == region_name]\n",
    "  return answer\n"
   ]
  },
  {
   "cell_type": "code",
   "execution_count": 8,
   "metadata": {},
   "outputs": [
    {
     "data": {
      "text/plain": [
       "<bound method NDFrame.head of       age     sex     bmi  children smoker     region      charges\n",
       "0      19  female  27.900         0    yes  southwest  16884.92400\n",
       "1      18    male  33.770         1     no  southeast   1725.55230\n",
       "2      28    male  33.000         3     no  southeast   4449.46200\n",
       "3      33    male  22.705         0     no  northwest  21984.47061\n",
       "4      32    male  28.880         0     no  northwest   3866.85520\n",
       "...   ...     ...     ...       ...    ...        ...          ...\n",
       "1333   50    male  30.970         3     no  northwest  10600.54830\n",
       "1334   18  female  31.920         0     no  northeast   2205.98080\n",
       "1335   18  female  36.850         0     no  southeast   1629.83350\n",
       "1336   21  female  25.800         0     no  southwest   2007.94500\n",
       "1337   61  female  29.070         0    yes  northwest  29141.36030\n",
       "\n",
       "[1338 rows x 7 columns]>"
      ]
     },
     "execution_count": 8,
     "metadata": {},
     "output_type": "execute_result"
    }
   ],
   "source": [
    "df = pd.read_csv(\"insurance.csv\")\n",
    "df.head"
   ]
  },
  {
   "cell_type": "code",
   "execution_count": 9,
   "metadata": {},
   "outputs": [
    {
     "name": "stderr",
     "output_type": "stream",
     "text": [
      "C:\\Users\\jeise\\AppData\\Local\\Temp\\ipykernel_15948\\761386092.py:1: UserWarning: Boolean Series key will be reindexed to match DataFrame index.\n",
      "  select_region(df, \"northeast\")[df[\"smoker\"] == \"yes\"].head()\n"
     ]
    },
    {
     "data": {
      "text/html": [
       "<div>\n",
       "<style scoped>\n",
       "    .dataframe tbody tr th:only-of-type {\n",
       "        vertical-align: middle;\n",
       "    }\n",
       "\n",
       "    .dataframe tbody tr th {\n",
       "        vertical-align: top;\n",
       "    }\n",
       "\n",
       "    .dataframe thead th {\n",
       "        text-align: right;\n",
       "    }\n",
       "</style>\n",
       "<table border=\"1\" class=\"dataframe\">\n",
       "  <thead>\n",
       "    <tr style=\"text-align: right;\">\n",
       "      <th></th>\n",
       "      <th>age</th>\n",
       "      <th>sex</th>\n",
       "      <th>bmi</th>\n",
       "      <th>children</th>\n",
       "      <th>smoker</th>\n",
       "      <th>region</th>\n",
       "      <th>charges</th>\n",
       "    </tr>\n",
       "  </thead>\n",
       "  <tbody>\n",
       "    <tr>\n",
       "      <th>23</th>\n",
       "      <td>34</td>\n",
       "      <td>female</td>\n",
       "      <td>31.92</td>\n",
       "      <td>1</td>\n",
       "      <td>yes</td>\n",
       "      <td>northeast</td>\n",
       "      <td>37701.8768</td>\n",
       "    </tr>\n",
       "    <tr>\n",
       "      <th>38</th>\n",
       "      <td>35</td>\n",
       "      <td>male</td>\n",
       "      <td>36.67</td>\n",
       "      <td>1</td>\n",
       "      <td>yes</td>\n",
       "      <td>northeast</td>\n",
       "      <td>39774.2763</td>\n",
       "    </tr>\n",
       "    <tr>\n",
       "      <th>92</th>\n",
       "      <td>59</td>\n",
       "      <td>male</td>\n",
       "      <td>29.83</td>\n",
       "      <td>3</td>\n",
       "      <td>yes</td>\n",
       "      <td>northeast</td>\n",
       "      <td>30184.9367</td>\n",
       "    </tr>\n",
       "    <tr>\n",
       "      <th>98</th>\n",
       "      <td>56</td>\n",
       "      <td>male</td>\n",
       "      <td>19.95</td>\n",
       "      <td>0</td>\n",
       "      <td>yes</td>\n",
       "      <td>northeast</td>\n",
       "      <td>22412.6485</td>\n",
       "    </tr>\n",
       "    <tr>\n",
       "      <th>123</th>\n",
       "      <td>44</td>\n",
       "      <td>male</td>\n",
       "      <td>31.35</td>\n",
       "      <td>1</td>\n",
       "      <td>yes</td>\n",
       "      <td>northeast</td>\n",
       "      <td>39556.4945</td>\n",
       "    </tr>\n",
       "  </tbody>\n",
       "</table>\n",
       "</div>"
      ],
      "text/plain": [
       "     age     sex    bmi  children smoker     region     charges\n",
       "23    34  female  31.92         1    yes  northeast  37701.8768\n",
       "38    35    male  36.67         1    yes  northeast  39774.2763\n",
       "92    59    male  29.83         3    yes  northeast  30184.9367\n",
       "98    56    male  19.95         0    yes  northeast  22412.6485\n",
       "123   44    male  31.35         1    yes  northeast  39556.4945"
      ]
     },
     "execution_count": 9,
     "metadata": {},
     "output_type": "execute_result"
    }
   ],
   "source": [
    "select_region(df, \"northeast\")[df[\"smoker\"] == \"yes\"].head()"
   ]
  },
  {
   "cell_type": "code",
   "execution_count": 16,
   "metadata": {},
   "outputs": [
    {
     "data": {
      "image/png": "[encoded data removed]",
      "text/plain": [
       "<Figure size 640x480 with 1 Axes>"
      ]
     },
     "metadata": {},
     "output_type": "display_data"
    }
   ],
   "source": [
    "max_age = df[\"age\"].max()\n",
    "min_age = df[\"age\"].min()\n",
    "ages_ne = select_region(df, \"northeast\")[\"age\"][df[\"smoker\"] == \"yes\"]\n",
    "ages_se = select_region(df, \"southeast\")[\"age\"][df[\"smoker\"] == \"yes\"]\n",
    "ages_nw = select_region(df, \"northwest\")[\"age\"][df[\"smoker\"] == \"yes\"]\n",
    "ages_sw = select_region(df, \"southwest\")[\"age\"][df[\"smoker\"] == \"yes\"]\n",
    "colors = [\"blue\", \"green\", \"orange\", \"red\"]\n",
    "bins = [min_age, 20, 25, 30, 35, 40, 45, 50, 55, 60, max_age]\n",
    "plt.hist([ages_ne, ages_se, ages_nw, ages_sw], bins=\"auto\", color=colors, histtype=\"bar\",rwidth=0.8, label=[\"Northeast\", \"Southeast\", \"Northwest\", \"Southwest\"])\n",
    "plt.xlabel(\"age\")\n",
    "plt.xticks(bins)\n",
    "plt.ylabel(\"number of smokers\")\n",
    "plt.legend()\n",
    "plt.title(\"Number of smokers according to age in four regions\")\n",
    "plt.show()\n",
    "\n"
   ]
  },
  {
   "cell_type": "code",
   "execution_count": null,
   "metadata": {},
   "outputs": [],
   "source": []
  }
 ],
 "metadata": {
  "kernelspec": {
   "display_name": "Python 3",
   "language": "python",
   "name": "python3"
  },
  "language_info": {
   "codemirror_mode": {
    "name": "ipython",
    "version": 3
   },
   "file_extension": ".py",
   "mimetype": "text/x-python",
   "name": "python",
   "nbconvert_exporter": "python",
   "pygments_lexer": "ipython3",
   "version": "3.11.8"
  }
 },
 "nbformat": 4,
 "nbformat_minor": 4
}
